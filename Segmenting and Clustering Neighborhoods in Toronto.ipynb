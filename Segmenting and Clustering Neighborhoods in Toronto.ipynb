{
 "cells": [
  {
   "cell_type": "markdown",
   "metadata": {},
   "source": [
    "# Import required libraries"
   ]
  },
  {
   "cell_type": "code",
   "execution_count": 98,
   "metadata": {},
   "outputs": [],
   "source": [
    "# import all require libraries\n",
    "from bs4 import BeautifulSoup\n",
    "import requests\n",
    "import pandas as pd"
   ]
  },
  {
   "cell_type": "markdown",
   "metadata": {},
   "source": [
    "Scrape website"
   ]
  },
  {
   "cell_type": "code",
   "execution_count": 99,
   "metadata": {
    "scrolled": true
   },
   "outputs": [],
   "source": [
    "# scrape data from website\n",
    "source = requests.get('https://en.wikipedia.org/wiki/List_of_postal_codes_of_Canada:_M').text\n",
    "\n",
    "# create soup - parse source \n",
    "soup = BeautifulSoup(source, 'lxml')\n",
    "#print(soup.prettify())"
   ]
  },
  {
   "cell_type": "code",
   "execution_count": 100,
   "metadata": {},
   "outputs": [],
   "source": [
    "#creates a new empty dataframe\n",
    "df = pd.DataFrame(columns=['PostalCode', 'Borough', 'Neighbourhood'])\n",
    "\n",
    "# find all td / cell elements in soup\n",
    "for neighbourhood in soup.find_all('td'):\n",
    "    #print(neighbourhood)\n",
    "    \n",
    "    # only process relevant cells with a p.span element\n",
    "    if not neighbourhood.p: continue\n",
    "    \n",
    "    # skip Not assigned boroughs\n",
    "    if neighbourhood.find(\"i\") and neighbourhood.find(\"i\").text == 'Not assigned': continue\n",
    "    \n",
    "    # get postal code\n",
    "    postal_code = neighbourhood.find(\"b\").text if neighbourhood.find(\"b\") else ''\n",
    "    #print(postal_code)\n",
    "    \n",
    "    # get borough\n",
    "    neigh_list = neighbourhood.p.span.contents\n",
    "    borough = neigh_list[0].text if neigh_list[0].name == \"a\" else neigh_list[0]\n",
    "    #print(borough)\n",
    "    \n",
    "    # clean neighbourhood content\n",
    "    neigh_list.pop(0) # remove borough\n",
    "    neigh_list.pop(0) # remove <br/>\n",
    "    if '(' in neigh_list: neigh_list.remove('(')\n",
    "    if ')' in neigh_list: neigh_list.remove(')')\n",
    "    \n",
    "    # clean neighbourhood elements and build clean string\n",
    "    neigh_str = \"\"\n",
    "    for neigh in neigh_list:\n",
    "        if neigh.name == 'br': continue\n",
    "        if neigh.name == 'a':\n",
    "            neigh_str += neigh.text\n",
    "        else:\n",
    "            neigh_str += neigh\n",
    "    \n",
    "    # replace spurious characters\n",
    "    if '(' in neigh_str: neigh_str = neigh_str.replace('(', '')\n",
    "    if ')' in neigh_str: neigh_str = neigh_str.replace(')', '')\n",
    "    \n",
    "    # split string into individual neighbourhood names and clean spurious characters\n",
    "    neigh_list = neigh_str.split(' / ')\n",
    "    neigh_list = list(map(str.strip, neigh_list))\n",
    "    if '' in neigh_list: neigh_list.remove('')\n",
    "    neighborhoods = \", \".join(neigh_list)\n",
    "    #print(neighborhoods)\n",
    "    \n",
    "    # add postal code, borough and neighbourhoods to dataframe\n",
    "    df = df.append({'PostalCode': postal_code, 'Borough': borough, 'Neighbourhood': neighborhoods}, ignore_index = True)\n"
   ]
  },
  {
   "cell_type": "code",
   "execution_count": 101,
   "metadata": {},
   "outputs": [
    {
     "name": "stdout",
     "output_type": "stream",
     "text": [
      "  PostalCode           Borough                     Neighbourhood\n",
      "0        M3A        North York                         Parkwoods\n",
      "1        M4A        North York                  Victoria Village\n",
      "2        M5A  Downtown Toronto         Regent Park, Harbourfront\n",
      "3        M6A        North York  Lawrence Manor, Lawrence Heights\n",
      "4        M7A      Queen's Park     Ontario Provincial Government\n"
     ]
    }
   ],
   "source": [
    "# inspect dataframe\n",
    "print(df.head())"
   ]
  },
  {
   "cell_type": "code",
   "execution_count": 102,
   "metadata": {},
   "outputs": [
    {
     "data": {
      "text/plain": [
       "(103, 3)"
      ]
     },
     "execution_count": 102,
     "metadata": {},
     "output_type": "execute_result"
    }
   ],
   "source": [
    "# print out shape\n",
    "df.shape"
   ]
  },
  {
   "cell_type": "code",
   "execution_count": null,
   "metadata": {},
   "outputs": [],
   "source": []
  }
 ],
 "metadata": {
  "kernelspec": {
   "display_name": "Python 3",
   "language": "python",
   "name": "python3"
  },
  "language_info": {
   "codemirror_mode": {
    "name": "ipython",
    "version": 3
   },
   "file_extension": ".py",
   "mimetype": "text/x-python",
   "name": "python",
   "nbconvert_exporter": "python",
   "pygments_lexer": "ipython3",
   "version": "3.7.6"
  }
 },
 "nbformat": 4,
 "nbformat_minor": 4
}
